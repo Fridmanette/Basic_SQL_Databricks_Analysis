{
 "cells": [
  {
   "cell_type": "markdown",
   "metadata": {
    "application/vnd.databricks.v1+cell": {
     "cellMetadata": {
      "byteLimit": 2048000,
      "rowLimit": 10000
     },
     "inputWidgets": {},
     "nuid": "9078fff1-ab01-4648-9e86-35a53e0adfd7",
     "showTitle": false,
     "tableResultSettingsMap": {},
     "title": ""
    }
   },
   "source": [
    "*Uploading the data*"
   ]
  },
  {
   "cell_type": "code",
   "execution_count": null,
   "metadata": {},
   "outputs": [],
   "source": [
    "git add your_file.sql\n",
    "git commit -m \"Add SQL file\"\n",
    "git push"
   ]
  },
  {
   "cell_type": "code",
   "execution_count": null,
   "metadata": {
    "application/vnd.databricks.v1+cell": {
     "cellMetadata": {
      "byteLimit": 2048000,
      "rowLimit": 10000
     },
     "inputWidgets": {},
     "nuid": "6482be4c-f067-47c9-b0ac-35c938b94601",
     "showTitle": false,
     "tableResultSettingsMap": {},
     "title": ""
    }
   },
   "outputs": [
    {
     "name": "stdout",
     "output_type": "stream",
     "text": [
      "+-------------+---------+----+----+-------------+---------+--------------------+--------+---------------+--------+------+---------+-------+----+-------------+\n",
      "|battery_level|c02_level|cca2|cca3|           cn|device_id|         device_name|humidity|             ip|latitude|   lcd|longitude|  scale|temp|    timestamp|\n",
      "+-------------+---------+----+----+-------------+---------+--------------------+--------+---------------+--------+------+---------+-------+----+-------------+\n",
      "|            8|      868|  US| USA|United States|        1|meter-gauge-1xbYRYcj|      51|   68.161.225.1|    38.0| green|    -97.0|Celsius|  34|1458444054093|\n",
      "|            7|     1473|  NO| NOR|       Norway|        2|   sensor-pad-2n2Pea|      70|  213.161.254.1|   62.47|   red|     6.15|Celsius|  11|1458444054119|\n",
      "|            2|     1556|  IT| ITA|        Italy|        3| device-mac-36TWSKiT|      44|      88.36.5.1|   42.83|   red|    12.83|Celsius|  19|1458444054120|\n",
      "|            6|     1080|  US| USA|United States|        4|   sensor-pad-4mzWkz|      32|  66.39.173.154|   44.06|yellow|  -121.32|Celsius|  28|1458444054121|\n",
      "|            4|      931|  PH| PHL|  Philippines|        5|therm-stick-5gimp...|      62|    203.82.41.9|   14.58| green|   120.97|Celsius|  25|1458444054122|\n",
      "|            3|     1210|  US| USA|United States|        6|sensor-pad-6al7RT...|      51| 204.116.105.67|   35.93|yellow|   -85.46|Celsius|  27|1458444054122|\n",
      "|            3|     1129|  CN| CHN|        China|        7|meter-gauge-7GeDoanM|      26|  220.173.179.1|   22.82|yellow|   108.32|Celsius|  18|1458444054123|\n",
      "|            0|     1536|  JP| JPN|        Japan|        8|sensor-pad-8xUD6p...|      35|  210.173.177.1|   35.69|   red|   139.69|Celsius|  27|1458444054123|\n",
      "|            3|      807|  JP| JPN|        Japan|        9| device-mac-9GcjZ2pw|      85|  118.23.68.227|   35.69| green|   139.69|Celsius|  13|1458444054124|\n",
      "|            7|     1470|  US| USA|United States|       10|sensor-pad-10Bsyw...|      56|208.109.163.218|   33.61|   red|  -111.89|Celsius|  26|1458444054125|\n",
      "+-------------+---------+----+----+-------------+---------+--------------------+--------+---------------+--------+------+---------+-------+----+-------------+\n",
      "only showing top 10 rows\n",
      "\n"
     ]
    }
   ],
   "source": [
    "# File location and type\n",
    "file_location = \"/FileStore/tables/iot_devices.json\"\n",
    "file_type = \"json\"\n",
    "\n",
    "# CSV options\n",
    "infer_schema = \"false\"\n",
    "first_row_is_header = \"false\"\n",
    "delimiter = \",\"\n",
    "\n",
    "# The applied options are for CSV files. For other file types, these will be ignored.\n",
    "df = spark.read.format(file_type) \\\n",
    "  .option(\"inferSchema\", infer_schema) \\\n",
    "  .option(\"header\", first_row_is_header) \\\n",
    "  .option(\"sep\", delimiter) \\\n",
    "  .load(file_location)\n",
    "\n",
    "df.show(10)"
   ]
  },
  {
   "cell_type": "code",
   "execution_count": null,
   "metadata": {
    "application/vnd.databricks.v1+cell": {
     "cellMetadata": {
      "byteLimit": 2048000,
      "rowLimit": 10000
     },
     "inputWidgets": {},
     "nuid": "bd82bb99-1479-4d5c-be10-8c36df0f1d44",
     "showTitle": false,
     "tableResultSettingsMap": {},
     "title": ""
    }
   },
   "outputs": [
    {
     "name": "stdout",
     "output_type": "stream",
     "text": [
      "Out[3]: 198164"
     ]
    }
   ],
   "source": [
    "# Create a view or table\n",
    "\n",
    "temp_table_name = \"iot_devices_json\"\n",
    "\n",
    "df.createOrReplaceTempView(temp_table_name)\n",
    "df.count()"
   ]
  },
  {
   "cell_type": "code",
   "execution_count": null,
   "metadata": {
    "application/vnd.databricks.v1+cell": {
     "cellMetadata": {
      "byteLimit": 2048000,
      "rowLimit": 10000
     },
     "inputWidgets": {},
     "nuid": "db9631f6-bb4a-42ca-8a3c-0d48af932331",
     "showTitle": false,
     "tableResultSettingsMap": {},
     "title": ""
    }
   },
   "outputs": [],
   "source": [
    "\n",
    "permanent_table_name = \"iot_devices_json\"\n"
   ]
  },
  {
   "cell_type": "code",
   "execution_count": null,
   "metadata": {
    "application/vnd.databricks.v1+cell": {
     "cellMetadata": {
      "byteLimit": 2048000,
      "rowLimit": 10000
     },
     "inputWidgets": {},
     "nuid": "37fa6516-8ef5-4f57-a6f5-2601a44e32cd",
     "showTitle": false,
     "tableResultSettingsMap": {},
     "title": ""
    }
   },
   "outputs": [
    {
     "name": "stdout",
     "output_type": "stream",
     "text": [
      "Number of sensor pads from Poland: 1413\n",
      "Out[6]: 1413"
     ]
    }
   ],
   "source": [
    "from pyspark.sql.functions import col, asc, count, when\n",
    "\n",
    "TempFilter1 = df.filter(col(\"cn\") == \"Poland\").filter(col(\"device_name\").like(\"sensor-pad%\"))\n",
    "sensor_poland = TempFilter1.count()\n",
    "\n",
    "print(f\"Number of sensor pads from Poland: {sensor_poland}\")\n",
    "\n",
    "df.where((col('cn') == \"Poland\") & (col('device_name').like(\"sensor-pad%\"))).count()\n"
   ]
  },
  {
   "cell_type": "code",
   "execution_count": null,
   "metadata": {
    "application/vnd.databricks.v1+cell": {
     "cellMetadata": {
      "byteLimit": 2048000,
      "rowLimit": 10000
     },
     "inputWidgets": {},
     "nuid": "f1641732-9074-4826-96c5-91f380620582",
     "showTitle": false,
     "tableResultSettingsMap": {},
     "title": ""
    }
   },
   "outputs": [
    {
     "name": "stdout",
     "output_type": "stream",
     "text": [
      "+------+\n",
      "|   lcd|\n",
      "+------+\n",
      "| green|\n",
      "|yellow|\n",
      "|   red|\n",
      "+------+\n",
      "\n",
      "Number of distinct LCD colors: 3\n"
     ]
    }
   ],
   "source": [
    "df.select(\"lcd\").distinct().show()\n",
    "distinct_color_count = df.select(\"lcd\").distinct().count()\n",
    "print(f\"Number of distinct LCD colors: {distinct_color_count}\")"
   ]
  },
  {
   "cell_type": "code",
   "execution_count": null,
   "metadata": {
    "application/vnd.databricks.v1+cell": {
     "cellMetadata": {
      "byteLimit": 2048000,
      "rowLimit": 10000
     },
     "inputWidgets": {},
     "nuid": "0da1da0e-30c5-4494-9839-a9e85a1dfd5f",
     "showTitle": false,
     "tableResultSettingsMap": {},
     "title": ""
    }
   },
   "outputs": [
    {
     "name": "stdout",
     "output_type": "stream",
     "text": [
      "+-----------------+----------------+\n",
      "|               cn|mac_device_count|\n",
      "+-----------------+----------------+\n",
      "|    United States|           11508|\n",
      "|            China|            2300|\n",
      "|            Japan|            2001|\n",
      "|Republic of Korea|            1999|\n",
      "|          Germany|            1314|\n",
      "+-----------------+----------------+\n",
      "\n"
     ]
    }
   ],
   "source": [
    "mac_devices_df = df.filter(col(\"device_name\").like(\"device-mac%\"))\n",
    "\n",
    "# Group by country (\"cn\") and count the number of MAC devices\n",
    "country_mac_counts = mac_devices_df.groupBy(\"cn\").agg(count(\"device_name\").alias(\"mac_device_count\"))\n",
    "\n",
    "# Order by the count in descending order and select the top 5 countries\n",
    "top_countries = country_mac_counts.orderBy(\"mac_device_count\", ascending=False).limit(5)\n",
    "\n",
    "# Show the results\n",
    "top_countries.show()"
   ]
  },
  {
   "cell_type": "code",
   "execution_count": null,
   "metadata": {
    "application/vnd.databricks.v1+cell": {
     "cellMetadata": {
      "byteLimit": 2048000,
      "rowLimit": 10000
     },
     "inputWidgets": {},
     "nuid": "e45d906f-e3ea-4e35-81a0-f74ad2de09a9",
     "showTitle": false,
     "tableResultSettingsMap": {},
     "title": ""
    }
   },
   "outputs": [],
   "source": [
    "# Select numerical columns\n",
    "selected_df = df.select(\"battery_level\", \"c02_level\", \"temp\")\n",
    "\n",
    "# Drop any rows with null values in these columns\n",
    "selected_df = selected_df.na.drop()"
   ]
  },
  {
   "cell_type": "code",
   "execution_count": null,
   "metadata": {
    "application/vnd.databricks.v1+cell": {
     "cellMetadata": {
      "byteLimit": 2048000,
      "rowLimit": 10000
     },
     "inputWidgets": {},
     "nuid": "21737178-9507-4d7d-ae28-622ef38743e6",
     "showTitle": false,
     "tableResultSettingsMap": {},
     "title": ""
    }
   },
   "outputs": [],
   "source": [
    "from pyspark.ml.feature import VectorAssembler, StandardScaler\n",
    "\n",
    "# Assemble features into a vector\n",
    "assembler = VectorAssembler(inputCols=[\"battery_level\", \"c02_level\", \"temp\"], outputCol=\"features\")\n",
    "assembled_df = assembler.transform(selected_df)\n",
    "\n",
    "# Scale the features\n",
    "scaler = StandardScaler(inputCol=\"features\", outputCol=\"scaled_features\", withStd=True, withMean=True)\n",
    "scaler_model = scaler.fit(assembled_df)\n",
    "scaled_df = scaler_model.transform(assembled_df)"
   ]
  },
  {
   "cell_type": "code",
   "execution_count": null,
   "metadata": {
    "application/vnd.databricks.v1+cell": {
     "cellMetadata": {
      "byteLimit": 2048000,
      "rowLimit": 10000
     },
     "inputWidgets": {},
     "nuid": "bb2278c2-b2a1-4b27-8fe8-00b575465d4a",
     "showTitle": false,
     "tableResultSettingsMap": {},
     "title": ""
    }
   },
   "outputs": [
    {
     "data": {
      "application/vnd.databricks.v1+bamboolib_hint": "{\"pd.DataFrames\": [], \"version\": \"0.0.1\"}",
      "text/plain": []
     },
     "metadata": {},
     "output_type": "display_data"
    },
    {
     "name": "stderr",
     "output_type": "stream",
     "text": [
      "/databricks/spark/python/pyspark/sql/pandas/conversion.py:122: UserWarning: toPandas attempted Arrow optimization because 'spark.sql.execution.arrow.pyspark.enabled' is set to true; however, failed by the reason below:\n",
      "  Unable to convert the field scaled_features. If this column is not necessary, you may consider dropping it or converting to primitive type before the conversion.\n",
      "Direct cause: Unsupported type in conversion to Arrow: VectorUDT()\n",
      "Attempting non-optimization as 'spark.sql.execution.arrow.pyspark.fallback.enabled' is set to true.\n",
      "  warn(msg)\n"
     ]
    },
    {
     "data": {
      "image/png": "[encoded data removed]"
     },
     "metadata": {
      "application/vnd.databricks.v1+output": {
       "addedWidgets": {},
       "arguments": {},
       "data": "data:image/png;base64,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\n",
       "datasetInfos": [],
       "metadata": {},
       "removedWidgets": [],
       "type": "image"
      }
     },
     "output_type": "display_data"
    }
   ],
   "source": [
    "import pandas as pd\n",
    "from scipy.cluster.hierarchy import dendrogram, linkage\n",
    "import matplotlib.pyplot as plt\n",
    "\n",
    "# Take a small sample to make the dendrogram plotting feasible\n",
    "sample_data = scaled_df.select(\"scaled_features\").limit(50).toPandas()\n",
    "sample_features = pd.DataFrame(sample_data[\"scaled_features\"].tolist())\n",
    "\n",
    "# Perform hierarchical clustering using SciPy\n",
    "Z = linkage(sample_features, method=\"ward\")\n",
    "\n",
    "# Plot the dendrogram\n",
    "plt.figure(figsize=(10, 7))\n",
    "dendrogram(Z, labels=sample_features.index.tolist())\n",
    "plt.title(\"Hierarchical Clustering Dendrogram\")\n",
    "plt.xlabel(\"Device Index\")\n",
    "plt.ylabel(\"Distance\")\n",
    "plt.show()"
   ]
  },
  {
   "cell_type": "code",
   "execution_count": null,
   "metadata": {
    "application/vnd.databricks.v1+cell": {
     "cellMetadata": {
      "byteLimit": 2048000,
      "rowLimit": 10000
     },
     "inputWidgets": {},
     "nuid": "d9816c1f-7718-4d89-9d3e-49c0005b4b02",
     "showTitle": false,
     "tableResultSettingsMap": {},
     "title": ""
    }
   },
   "outputs": [
    {
     "name": "stdout",
     "output_type": "stream",
     "text": [
      "The correlation between temperature and CO2 level is: 0.0027097410690436\n"
     ]
    }
   ],
   "source": [
    "# Calculate the Pearson correlation between temperature and CO2 level\n",
    "temperature_c02_corr = df.stat.corr(\"temp\", \"c02_level\")\n",
    "print(f\"The correlation between temperature and CO2 level is: {temperature_c02_corr}\")"
   ]
  },
  {
   "cell_type": "code",
   "execution_count": null,
   "metadata": {
    "application/vnd.databricks.v1+cell": {
     "cellMetadata": {
      "byteLimit": 2048000,
      "rowLimit": 10000
     },
     "inputWidgets": {},
     "nuid": "4ff2a303-fda4-4fe0-876a-2b7e70fbac1f",
     "showTitle": false,
     "tableResultSettingsMap": {},
     "title": ""
    }
   },
   "outputs": [
    {
     "name": "stdout",
     "output_type": "stream",
     "text": [
      "The correlation between temp and c02_level is: 0.0027097410690436\n",
      "The correlation between battery_level and temp is: -0.0028133019164203773\n",
      "The correlation between battery_level and c02_level is: -0.0005630186116475665\n"
     ]
    }
   ],
   "source": [
    "# List of column pairs to analyze\n",
    "columns_to_compare = [(\"temp\", \"c02_level\"), (\"battery_level\", \"temp\"), (\"battery_level\", \"c02_level\")]\n",
    "\n",
    "# Calculate and display correlations for each pair\n",
    "for col1, col2 in columns_to_compare:\n",
    "    corr_value = df.stat.corr(col1, col2)\n",
    "    print(f\"The correlation between {col1} and {col2} is: {corr_value}\")"
   ]
  },
  {
   "cell_type": "code",
   "execution_count": null,
   "metadata": {
    "application/vnd.databricks.v1+cell": {
     "cellMetadata": {
      "byteLimit": 2048000,
      "rowLimit": 10000
     },
     "inputWidgets": {},
     "nuid": "9f403991-6d0a-49c0-ae2a-60d1ddab0f56",
     "showTitle": false,
     "tableResultSettingsMap": {},
     "title": ""
    }
   },
   "outputs": [
    {
     "data": {
      "image/png": "[encoded data removed]"
     },
     "metadata": {
      "application/vnd.databricks.v1+output": {
       "addedWidgets": {},
       "arguments": {},
       "data": "data:image/png;base64,iVBORw0KGgoAAAANSUhEUgAAAdEAAAF2CAYAAAAx2qLNAAAAOXRFWHRTb2Z0d2FyZQBNYXRwbG90bGliIHZlcnNpb24zLjUuMSwgaHR0cHM6Ly9tYXRwbG90bGliLm9yZy/YYfK9AAAACXBIWXMAAAsTAAALEwEAmpwYAABKDElEQVR4nO3deXwV5dn/8c+VAGIgAkkAQbAoGtFaigsacBeq1KVStVZ9+ohtFfGnYrW1ShfroyjWAlKbIFBRcam4tFaxVhBUcCGVoFgXkEXcQDCLbKIkJNfvj5nEk5D9nJPkcL7v12tenDNzz8w1k+Fc577nnvuYuyMiIiJNl9LaAYiIiCQqJVEREZFmUhIVERFpJiVRERGRZlISFRERaSYlURERkWZSEk1iZnaxmb0Sxfr/NrNRsYxJqjOzY8xslZltM7ORrR2PiFSnJNrKzOxCMysIPyQ/CxPTsa0dV01mdpOZPRQ5z92/7+6z4rCv+81sfI15/czMzaxdDLb/kpldEu12WsjNQK67d3b3f9ZcaGYfmtnw+jZgZseF19c2M/syPI/bIqZ969juVzXK9Y7mQBoTq0iiURJtRWZ2LTAFuA3oCewLTAXOasa2dkkusUg40uq+BbwbzQbc/eUwCXcGvh3O7lo5z90/rmPVMyPKdHb39dHEES1dz9IWKYm2EjPrQlDLuMLd/+HuX7p7mbvPcffrwjJ7mNkUM1sfTlPMbI9w2Ylm9qmZXW9mG4D7wtriE2b2kJltAS42sy5mNjOs5a4zs/FmllpHTH82s0/MbIuZLTWz48L5I4DfAD8OayRvhfOranRmlmJmvzOzj8zsczN7IDzGyFrkKDP72MyKzOy3UZ6/PcxsYri9jWY2zcz2DJd1M7NnzKzQzL4IX/cJl90KHAfkhseSG853M/t/YdPpVjO7xcz6m9lr4fl4zMw6NLT9iPMywcxeD9d9yswy6jmWS81stZmVmNnTlTU+M1sD7A/MCWPdo4FzUuffIFbqu57C8/WCmRWHf+OHzaxruOxBgi+Jlcfy68pruMb2q2qrTb2ezewAM1toZpvD/T8ay2MXqY2SaOsZAnQEnqynzG+BHGAQ8F3gKOB3Ecv3BjIIaiujw3lnAU8AXYGHgfuBncABwGHAKUBdTZlLwn1lAH8DHjezju7+HEFt+dGwRvLdWta9OJxOIvjg7wzk1ihzLHAQMAy40cwOrufYG3I7kB3GewCwD3BjuCwFuI/gvOwLfFUZi7v/FngZuDI8lisjtnkqcATBOf81MAP4CdAXOBS4oKHtR7gI+BnQi+D831XbQZjZycAE4Lyw7EfA7DDW/sDHfFMj3NHAObmYhv8G0bqfuq8nIziW3sDBBOftJgB3/1+qH8sdjdxfU67nW4B5QDegD/CX5hygSJO4u6ZWmID/ATY0UGYNcFrE+1OBD8PXJwKlQMeI5TcBiyLe9wR2AHtGzLsAeDF8fTHwSj37/wL4bsS2H6qx/CXgkvD1AuD/RSw7CCgD2gH9AAf6RCx/HTi/jv3eD3wNbIqYtoTbaEfwYf0l0D9inSHA2jq2Nwj4ora4I+Y5cEzE+6XA9RHvJwFTmrD92yPeHxL+rVJrWXcmcEfE+87heesXvv8QGF7P36hqeX1/g4h5lX+LdnVtM2K72yLO/z8bup5q2cZI4M3aYo24hj+t53huomnX8wMEX3z61HdsmjTFctI9htZTDGSZWTt331lHmd4ENZNKH4XzKhW6+9c11vkk4vW3gPbAZ2ZWOS+lRpkqZvYr4OfhPhzYC8hq+FDqjLUdwQdfpQ0Rr7cTJIy6THT3qlq3mfUD1oZvuwNpwNKI4zKgslkvDbgTGEFQKwFIN7NUdy+vZ58bI15/Vcv7vZuw/chz/BHB3yGrxjYhOG9vVL5x921mVkxQs/6wnlhrU9/fYF0TtwUw0t3nV74xs6Oo53oys57Anwmay9PDZV80Y7+RmnI9/5qgNvq6mX0BTHL3e6Pcv0i9lERbz2KCb9UjCZqrarOe6h1L9g3nVartJ3gi530S7iOrnkQNBD04CT6EhgHvuntF+EFU+WnV0M/9VMZaaV+CZreNBE1rsVREkNS+7e61JYdfEtTCjnb3DWY2CHiTxh9LQxraPgRNmZX2JagRFtWyrWrnzcw6AZk0L+nV9zeIhYaup9sIzu133L3EgkdyIpuTa573Lwm+DAEQ3tvsXqNMo69nd98AXBpu61hgvpktcvfVjTg2kWbRPdFW4u6bCe7h5ZnZSDNLM7P2ZvZ9M6u8X/QI8Dsz625mWWH5h+raZi37+IzgHtEkM9sr7HjS38xOqKV4OsEHbiHQzsxuJKiJVtoI9DOzuq6ZR4BrzGw/M+vMN/dQ603ezeHuFcBfgTvNrAeAme1jZqdGHMtXwKawQ88famxiI8E9w+ZqaPsAPzGzQ8Ja683AE3XUgh8Bfmpmg8KOQ7cB/3H3D5sRV1z/Bo24ntIJmoA3m9k+wHU1NlHzvK8EOprZ6WbWnuB+f52dpxrav5n9yL7p4PUFQQKuiOqgRRqgJNqK3H0ScC3Bh0chwTftKwnuPwGMBwqA/wJvEzT7jd9lQ/W7COgAvEfwwfIEQQeWmuYCzxF8sH1EcE8ysint8fDfYjN7g13dCzwILCJodv0auKqJsTbF9cBqID/suTmfoHYIwWNDexLU/PIJjivSn4FzLehZW2uHnwY0tH0IzsX9BE3YHYGxtW0obC79PfB34DOgP3B+M2KClvkb1Hc9/R9wOLAZ+BfwjxrrTiD4UrjJzH4VfpH8f8A9BDXvL4FPqV99+x8M/MfMtgFPA1e7+wfNPE6RRjF3/Si3SCyZ2UsEnbDuae1YRCS+VBMVERFpJiVRERFJGGZ2bziYyDt1LDczu8uCAUz+a2aHRywbZcGAKqssRuN+qzlXREQShpkdT9CB7QF3P7SW5acR9AU4DTga+LO7Hx12AiwAjiTodLYUOMLdo3oMSzVRERFJGO6+CCipp8hZBAnW3T0f6GpmvQgGq3ne3UvCxPk8wbPeUVESFRGR3ck+VH+y4NNwXl3zo9Iigy38q/1BajOOswHv/7u1QxCJCdMtprjbv39/a7hU80T7eX/GzpWX8c1Y4AAz3H1GdFHFj0YsEhGRmLH20eVnL/MZBGMgN9c6qo8Y1iect45gvObI+S9FsR9AzbkiIhJDKe0sqikGngYuCnvp5gCbw9Gu5gKnWPBTht0IfgFobrQ7U01UREQShpk9QlCjzAp/j/YPBD9MgLtPA54l6Jm7muCHLn4aLisxs1sIfvIR4GZ3r6+DUqMoiYqISMxY+/g2cLr7BQ0sd+CKOpbdSzA8ZswoiYqISMzEqEk2YSiJiohIzETbsSjRKImKiEjMJFtNVL1zRUREmkk1URERiRk154qIiDRTsjXnNphEI39Gpjbu/kbswhERkURmqUqiNU2qZ5kDJ8coFhERSXApSqLVuftJLRGIiIhIomn0PVEzSwOuBfZ199FmdiBwkLs/E7foREQkoViKaqJ1uY/gl8CHhu/XAY8DSqIiIgKApSbXk5NNSaL93f3HZnYBgLtvN7Pk+sohIiL1SrZ7ok35ylBqZnsSdCbCzPoDO+ISlYiISAJoSk30JuA5oK+ZPQwcA1wch5hERCRB6Z5oHdx9npktBXIAA65296K4RSYiIgkn2Zpzm9I7dw7wN+Bpd/8yfiGJiEiiSrbBFppyT3QicBzwnpk9YWbnmlnHOMUlIiIJyFJSopoSTVOacxcCC80slWCUoksJfiF8rzjFJiIi0qY1aQD6sHfumcCPgcOBWfEISkREEpM6FtXBzB4DjiLooZsLLHT3ingFJiIiiUcdi+o2E7jA3cvjFYyIiCQ21UTr9jIwzsw0dq6IiNQqETsHRaMpR3sfUEr1sXPHxzwiERGRBKGxc0VEJGbUnFs3jZ0rIiL1Useiuv0BjZ0rIiL1UE20Du7+vJm9gcbOFRERARqRRM3s8BqzPgv/3TfsqftG7MMSEZFElGy9cxtTE51UzzInGAJQREREzbk1uftJjdmQmX3P3Z+PPiQREUlUyZZEY1nv/mMMtyUiIgnIUiyqKdE0aQD6BiTe0ddi4F9vo8dpJ1L6eTGLDjuztcNp09yd6dOmsWTJEvbYYw+u/eUvOeCAA3Ypt2rVKiZPnkzpjh0MHjyYy8aMwczYunUrEyZM4PONG+nRsyfjxo0jPT2dF194gccffxwH0vbckyuuvJL9998fgCeffJK5zz2HmdGvXz+uufZaOnTo0MJHHl/xOq/1bfeM00+nX79+AHTv3p0/3HRTVSwPzJrFy6+8QmpKCqedfjpnnXVWS52KFlNQUMC06dOpqKhgxKmnct5551VbXlpWxqSJE1m1ejV7paczbtw4evbsCcCjjz7K3HnzSElJ4fIxYzjiiCMoLCxk4qRJfPHFF5gZ3x8xgpEjRwLwwAMPsDg/n5SUFLp06cIvr72WzMzMlj5kiZFY1kQ9httqNZ/O+gevn3FJa4eREAqWLGHd+vXcM3MmY8eOJTc3t9Zyebm5XD12LPfMnMm69espKCgA4LHHHmPQoEHcM3MmgwYN4vHHHgOg595788c77uDuu+/m/Asu4K677gKgqKiIp596ij/fdRd3T5tGeUUFCxcubJmDbUHxOq/1bbdDhw7k5uWRm5dXlUABnn/+eQqLipgxYwbTZ8zghBNOiN+Bt5Ly8nLypk7llptvZvq0aby0cCEfffxxtTLz5s6lc+fO3DtzJiN/+EPuvfdeAD76+GMWLlrEtGnTGH/LLeTm5VFeXk5qaiqXXnIJM6ZP587Jk3nmmWeqtnnOuedy99Sp5OXmcvRRR/G3v/2txY85nuL9e6JmNsLM3jez1WZ2Qy3L7zSzZeG00sw2RSwrj1j2dCyON7m6UTVCySsFlJVsbu0wEkJ+fj7Dhg3DzBhw8MF8uW0bJSUl1cqUlJSwfft2Bhx8MGbGsGHDyF+8OFh/8WKGDx8OwPDhw1kczj/kkENIT08HYMCAARQXffMkVXl5OaWlpZSXl7Njxw4yMzJa4lBbVLzOa2O2W9Oz//oXF154ISnhh1vXrl1jfLStb+XKlfTu3ZtevXrRvn17Tjj++KpzWWlxfn7VOT3u2GNZ9tZbuDv5ixdzwvHH06F9e/bee2969+7NypUrycjIqKrlp6Wl0Xfffauu405paVXb/frrr2E3G/gtJdWimuoT/p51HvB94BDgAjM7JLKMu1/j7oPcfRDwF+AfEYu/qlzm7j+IxfHGsjn3wxhuSxJAUXEx3bOyqt5nZWVRVFRERkRiKyoqIqtmmeJiADZt2lRVtlu3bmzatGmXfcybO5cjjjyyat2zzzmHURddRIcOHTj88MM5/Igj4nForSpe57W+7ZaWljJ27FhSU1L40XnnMXRoMET2Z599xqKFC3lt8WK6dOnCmDFj2GeffeJ27K2htvPy/vvvVytTXFxMVvfuAKSmppKWlsaWLVsoLi5mwIAB1dat/DtU2rhxI2vWrOGgiHL3z5rFggUL6NSpE7fffns8DqvVxPm+5lHAanf/AMDMZgNnAe/VUf4CgoGC4qbRNVEzW2pmV5hZt9qWu/vZsQtLko2ZUXMo5rfeeot58+bxs5/9DICtW7eSn5/Pfffdx0MPP8zXO3bwwgsvtEa4CaO281qb+2fN4q677uLX11/PjOnT+Wz9egDKysro0KEDd911FyNGjGDKnXfGO+TdyldffcX4W2/lstGjq9VALx41igcfeICTTjyROXPmtGKECWcf4JOI95+G83ZhZt8C9gMiPyQ6mlmBmeWb2chYBNSU5twfA72BJWY228xOrW8AejMbHQZb8FzFpmjjlDZizpw5XHnFFVx5xRVkZGRQGNHUWrN2BN/UdqqVCTtRdO3atao5saSkhC5dulSVW7t2LX+eMoXf33gje+21FwDLli1j75496dK1K+3ateOYoUNZ/l5dX0ATS0uc16zMzDq3W/lvr169GDhwIGvWrKmaP/SYYwAYOnQoa9eujelxtwW1nZeaHX0yMzMpKiwEglsK27dvZ6+99iIzM5PCcH7lupV/h507dzL+1ls56cQTOSY8hzWddNJJvPrqq7E+pFYV7T3RyNwRTqObGcr5wBM1fgP7W+5+JHAhMCUcAz4qjU6i7r7a3X8LZAN/A+4FPjKz/zOzXW5MufsMdz/S3Y8ckdI12jiljTjzzDOrOqAMGTKEBQsW4O6sWL6cTp06VWtyBMjIyCAtLY0Vy5fj7ixYsICcnBwAcnJymD9/PgDz588nZ8gQAD7//HPG33ILv7ruOvr06VO1re7du7NixQq+/vpr3J1ly5bRt2/fFjry+GqJ83p0Tk6t2926dStlpaUAbN68mffee499990XgCFDhvDft94C4O23397tmnIBsrOzWb9+PRs2bKCsrIyFixZVnctKOUcfXXVOX37lFb47cCBmRk5ODgsXLaK0rIwNGzawfv16srOzcXemTJlC3759Ofvs6o1069atq3q9OD+/2jW+O4j2EZfI3BFOMyI2vw6I/E/fJ5xXm/OBRyJnuPu68N8PgJeAw6I+XvfGd6o1s4HAT4HTgLnAw8CxwP+GN3Fr9a/2ByVMz91BD04i84Sj6JDVjR0bi1l181/45L4nWjusBg14/98tvk93Z+rUqSwtKGCPjh255ppryM7OBuDKK64gNy8PCDpu3Dl5Mjt27ODIwYO5/PLLMTO2bNnChNtuo7CwkB49ejDuN78hPT2dKVOm8Nqrr9KjRw8AUlJTq3roPvTggyxatIjU1FT279+fX1x9Ne13w0dc4nFe69rue++9x1/+8hdSzKhwZ+TIkZx66qkAbNu2jT/dcQefFxayZ8eOXHnVVVWPG8WLNeEzKVZeX7KEGdOnU15RwSmnnMIF55/PAw8+SPaBB5KTk0NpaSl/mjiRNWvWkJ6ezg3XX0+vXr0AeGT2bObNm0dqaiqXjR7N4MGDeefdd7nuuuvo169fVaesUaNGcdTgwYwfP55P163DzOjRowdXXXnlLi0N8bZ///5xu3H50eiRUf0BvzXjn/W1cLYDVgLDCJLnEuBCd3+3RrkBBD+Ysp+HSS68Fbnd3XeYWRawGDjL3aNqzmp0EjWzpcAmYCbwd3ffEbHsH/XdE02kJJqoWiOJisRDayTRZBPPJPrxmLOj+gPuO+0f9cZmZqcBU4BU4F53v9XMbgYK3P3psMxNQEd3vyFivaHAdKCCoBV2irvPjCZWaGTvXDNLIUict9W2XJ2KRESkJbj7s8CzNebdWOP9TbWs9xrwnVjH06h7ou5eAShRiohIvTTsX93mm9mvgEeBLytnunv9T2uLiEjS0E+h1e3H4b9XRMxzIL69DEREJHHsZiMwNaTRSdTd94tnICIikvgSsUk2Gk0ZsSjNzH5nZjPC9wea2RnxC01ERKRta0rj9X1AKTA0fL8OGB/ziEREJGHF+1dc2pqm3BPt7+4/NrMLANx9e33D/omISPJJtubcpiTRUjPbk/B3Q8MxB3fUv4qIiCSTRKxNRqMpSfQmgmGU+prZw8AxBEMAioiIJKWm9M6dFw79lwMYcLW7FzWwmoiIJBE159bBzBa4+zDgX7XMExERURKtycw6AmlAVjgKfuUZ2os6fgxVRESSlO6J7uIy4BcEP8i9lG+S6BYgNz5hiYhIIkq2hzYaTKLu/mfgz2Y21t3vilxmZnvELTIREZE2rin17otrmbc4RnGIiMhuQIMt1GBmexPc+9zTzA6j+j3RtDjGJiIiCUYdi3Z1KkEttA8wOWL+VuA3cYhJREQSVQLWJqPRmHuis4BZZnaOu/+9BWISEZEEpZpoHdz972Z2OvBtoGPE/JvjEZiIiEhb15TBFqYR3AM9CbgHOBd4PU5xiYhIAjJLrubcphztUHe/CPjC3f8PGAJkxycsERFJSCkW3ZRgmjIA/Vfhv9vNrDdQDPSKfUgiIpKoEvExlWg0JYk+Y2ZdgTsIRi6CoFlXREQkKTUliU4ELgeOIxhk4WXg7ngEJSIiiUm9c+s2i+DZ0Mqh/y4EHgDOi3VQIiKSoJKsY1FTkuih7n5IxPsXzey9WAckIiKJSzXRur1hZjnung9gZkcDBfEJS0REEpI6FlVnZm8DDrQHXjOzj8P33wJWxDc8ERGRtqsxNdEz4h6FiIjsFvR7ojW4+0ctEYiIiOwG1JwrIiLSPOpYJCIi0lxJ9ohLch2tiIgkNDMbYWbvm9lqM7uhluUXm1mhmS0Lp0silo0ys1XhNCoW8agmKiIisRPH5lwzSwXygO8BnwJLzOxpd685ZsGj7n5ljXUzgD8ARxI8YbI0XPeLaGJSTVRERGLGLCWqqQFHAavd/QN3LwVmA2c1MrRTgefdvSRMnM8DI5p9oKEWqYkOeP/fLbGbpLbioO+3dghJ4eAVz7Z2CLs9T7JHJHY7UdZEzWw0MDpi1gx3nxG+3gf4JGLZp8DRtWzmHDM7HlgJXOPun9Sx7j5RBYuac0VEpA0JE+aMBgvWbQ7wiLvvMLPLCMZ9PzkmwdVCzbkiIhIzlpIS1dSAdUDfiPd9wnlV3L3Y3XeEb+8Bjmjsus2hJCoiIrFjFt1UvyXAgWa2n5l1AM4Hnq6+e+sV8fYHwPLw9VzgFDPrZmbdgFPCeVFRc66IiMROHEcscvedZnYlQfJLBe5193fN7GagwN2fBsaa2Q+AnUAJcHG4bomZ3UKQiAFudveSaGNSEhURkdiJc8cwd38WeLbGvBsjXo8DxtWx7r3AvbGMR825IiIizaSaqIiIxEwjOgftVpRERUQkdpJs7FwlURERiR39iouIiEjzNGLovt1Kch2tiIhIDKkmKiIisaPmXBERkWZKsuZcJVEREYmdJPsVnuT6yiAiIhJDqomKiEjsaLAFERGRZtI9URERkWZS71wREZFmSrKaaHIdrYiISAypJioiIrGTZI+4KImKiEjsqHeuiIhIM6kmKiIi0kzqWCQiIiKNoZqoiIjEju6JioiINJPuiYqIiDST7omKiIhIYzS6JmpmewNHAQ4scfcNcYtKREQSU5I15zaqJmpmlwCvA2cD5wL5ZvazeAYmIiIJKCUluinBNLYmeh1wmLsXA5hZJvAacG+8AhMRkcTjSVYTbWwSLQa2RrzfGs4TERH5RpJ1LGpsEl0N/MfMniK4J3oW8F8zuxbA3SfHKT4REZE2q7FJdE04VXoq/Dc9tuGIiEhCU010V+7+f/EOREREEp/uidbCzI4Efgt8K3Iddx8Yp7ii5u5MnzaNJUuWsMcee3DtL3/JAQccsEu5VatWMXnyZEp37GDw4MFcNmYMZsbWrVuZMGECn2/cSI+ePRk3bhzp6em8+MILPP744ziQtueeXHHlley///4APPnkk8x97jnMjH79+nHNtdfSoUOHFj7ytm/gX2+jx2knUvp5MYsOO7O1w2nzCgoKmDZ9OhUVFYw49VTOO++8astLy8qYNHEiq1avZq/0dMaNG0fPnj0BePTRR5k7bx4pKSlcPmYMRxxxBIWFhUycNIkvvvgCM+P7I0YwcuRIACZMmMCn69YBsG3bNjp37kxebm6LHm9ri9dnxyeffMKdkyezevVqRo0axTnnntsKR9cCkqwm2tijfRi4DzgHODNiarMKlixh3fr13DNzJmPHjiW3jg+CvNxcrh47lntmzmTd+vUUFBQA8NhjjzFo0CDumTmTQYMG8fhjjwHQc++9+eMdd3D33Xdz/gUXcNdddwFQVFTE0089xZ/vuou7p02jvKKChQsXtszBJphPZ/2D18+4pLXDSAjl5eXkTZ3KLTffzPRp03hp4UI++vjjamXmzZ1L586duXfmTEb+8Ifce2/Qaf6jjz9m4aJFTJs2jfG33EJuXh7l5eWkpqZy6SWXMGP6dO6cPJlnnnmmapvjxo0jLzeXvNxcjj3mGIYOHdrix9za4vXZkZ6ezpgxYzjnnHNa7FhahVl0U4ObtxFm9r6ZrTazG2pZfq2ZvWdm/zWzBWb2rYhl5Wa2LJyejsXhNjaJFrr70+6+1t0/qpxiEUC85OfnM2zYMMyMAQcfzJfbtlFSUlKtTElJCdu3b2fAwQdjZgwbNoz8xYuD9RcvZvjw4QAMHz6cxeH8Qw45hPT04FbwgAEDKC4qqtpeeXk5paWllJeXs2PHDjIzMlriUBNOySsFlJVsbu0wEsLKlSvp3bs3vXr1on379pxw/PFV12ilxfn5Vdfqcccey7K33sLdyV+8mBOOP54O7duz995707t3b1auXElGRkZVzSotLY2+++5b7TqGoDa26OWXOfGEE1rmQNuQeH12dO3aleyDDiK1nUZbbS4zSwXygO8DhwAXmNkhNYq9CRwZtpQ+AdwRsewrdx8UTj+IRUyN/Wv+wczuARYAOypnuvs/YhFEPBQVF9M9K6vqfVZWFkVFRWREJLaioiKyapYpDp7c2bRpU1XZbt26sWnTpl32MW/uXI448siqdc8+5xxGXXQRHTp04PDDD+fwI46Ix6FJEqntOn7//ferlSkuLiare3cAUlNTSUtLY8uWLRQXFzNgwIBq61Ze35U2btzImjVrOCiiHMA777xDt65d2WeffWJ9SG1eS3x27NbiO2DCUcBqd/8AwMxmEzwt8l5lAXd/MaJ8PvCTeAbU2KP9KTAIGME3Tbln1LeCmY02swIzK5j9yCNRBdnazAyr0czw1ltvMW/ePH72s2Dgpq1bt5Kfn899993HQw8/zNc7dvDCCy+0RrgijfLVV18x/tZbuWz0aDqlpVVb9tLChZxw4omtE9hupLbPjt2dm0U1ReaOcBodsfl9gE8i3n8azqvLz4F/R7zvGG4z38xGxuJ4G1sTHezuBzVlw+4+A5gBsOaDD7ypgTXHnDlzmPvccwAcmJ1NYUQTVc1vjvDNN8xqZTIzgaDppaSkhIyMDEpKSujSpUtVubVr1/LnKVO4+ZZb2GuvvQBYtmwZe/fsSZeuXQE4ZuhQlr/3HieffHJcjlWSQ1Zm5i7XcWZ4jVbKzMykqLCQ7llZlJeXs337dvbaay8yMzMpLCystm7l9b1z507G33orJ514Isccc0y17ZWXl/Paa69V3e9PBi312ZEUouxYFJk7ogrD7CfAkUDkPYlvufs6M9sfeMHM3nb3NbVvoXEae7Sv1dLu3OaceeaZ5OblkZuXx5AhQ1iwYAHuzorly+nUqVO15hiAjIwM0tLSWLF8Oe7OggULyMnJASAnJ4f58+cDMH/+fHKGDAHg888/Z/wtt/Cr666jT58+Vdvq3r07K1as4Ouvv8bdWbZsGX379m2hI5fdVXZ2NuvXr2fDhg2UlZWxcNGiqmu0Us7RR1ddqy+/8grfHTgQMyMnJ4eFixZRWlbGhg0bWL9+PdnZ2bg7U6ZMoW/fvpx99tm77PPNN9+kT58+1Zo0d3ct8dkhMbEOiPxg7RPOq8bMhhM8UfIDd4+8Bbku/PcD4CXgsGgDMveGK4lmthzoD6wluCdqQRyNe8SlpWqikdydqVOnsrSggD06duSaa64hOzsbgCuvuILcvDwg6Lhx5+TJ7NixgyMHD+byyy/HzNiyZQsTbruNwsJCevTowbjf/Ib09HSmTJnCa6++So8ePQBISU2t+sb+0IMPsmjRIlJTU9m/f39+cfXVtG+hR1xWHPT9FtlPLAx6cBKZJxxFh6xu7NhYzKqb/8In9z3R2mE1ysErnm3xfb6+ZAkzpk+nvKKCU045hQvOP58HHnyQ7AMPJCcnh9LSUv40cSJr1qwhPT2dG66/nl69egHwyOzZzJs3j9TUVC4bPZrBgwfzzrvvct1119GvXz9SwvtXo0aN4qjBgwGYNHkyAw46iNNPP73FjxVa/znDeH12lJSUcPXYsWzfvp2UlBQ6duzI9OnTSevUqcWPsf/++8ftJG/Lfzqqz/vOOT+oMzYzawesBIYRJM8lwIXu/m5EmcMIOhSNcPdVEfO7AdvdfYeZZQGLgbPc/T2i0Ngk+q3a5je2h25rJNFkk0hJNJG1RhJNNq2dRJNBXJPof+ZEl0SPPrPe2MzsNGAKkArc6+63mtnNQIG7P21m84HvAJ+Fq3zs7j8ws6HAdKCCoBV2irvPjCZWaPyIRR+Z2bHAge5+n5l1BzpHu3MREdm9eJwHW3D3Z4Fna8y7MeL18DrWe40gucZUY0cs+gPBDdqDCAZdaA88BBxT33oiIpJkkqwlobFfGX4I/AD4EsDd16PB50VEJMk19hGXUnd3M3MAM2v5O+EiItL2JdnYuY1Noo+Z2XSgq5ldCvwM+Gv8whIRkUSUbB3DGptEuxN0Gd5CcF/0RqDWm7ciIpLEVBOt1ffc/Xrg+coZZjYJuD4uUYmIiCSAepOomV0O/D9gfzP7b8SidODVeAYmIiKJx1FzbqS/EQzeOwGI/N22re5eUvsqIiKSrOL9nGhbU28SdffNwGbggpYJR0REEpqSqIiISPMkW+/c5PrKICIiEkOqiYqISMzonqiIiEhzJVlzrpKoiIjEjGqiIiIizZRsz4km11cGERGRGFJNVEREYkbNuSIiIs2ljkUiIiLN40l2lzC5jlZERCSGVBMVEZGYSbZh/5RERUQkZtSxSEREpJmS7TlRJVEREYmZZKuJJtfRioiIxJBqoiIiEjPqWCQiItJMuicqIiLSTMl2T1RJVEREYibZaqLJ9ZVBREQkhlQTFRGRmEm25tzkOloREYkrx6KaGmJmI8zsfTNbbWY31LJ8DzN7NFz+HzPrF7FsXDj/fTM7NRbHq5qoiIjETDxromaWCuQB3wM+BZaY2dPu/l5EsZ8DX7j7AWZ2PvBH4MdmdghwPvBtoDcw38yy3b08mphUExURkURxFLDa3T9w91JgNnBWjTJnAbPC108Aw8zMwvmz3X2Hu68FVofbi4qSqIiIxEycm3P3AT6JeP9pOK/WMu6+E9gMZDZy3SZTc+5u4uAVz7Z2CElh+YDTWjuE3Z6u5cQW7YhFZjYaGB0xa4a7z4hqo3GkJCoiIjHjHl0SDRNmXUlzHdA34n2fcF5tZT41s3ZAF6C4kes2mZpzRUQkZpyUqKYGLAEONLP9zKwDQUehp2uUeRoYFb4+F3jB3T2cf37Ye3c/4EDg9WiPVzVRERFJCO6+08yuBOYCqcC97v6umd0MFLj708BM4EEzWw2UECRawnKPAe8BO4Erou2ZC0qiIiISQ/Ee9s/dnwWerTHvxojXXwM/qmPdW4FbYxmPkqiIiMRMso2dqyQqIiIxoyQqIiLSTMmWRNU7V0REpJlUExURkZiJ9jnRRKMkKiIiMZNszblKoiIiEjPJlkR1T1RERKSZVBMVEZGYSbaaqJKoiIjEjDoWiYiINFOFaqIiIiLNk2zNuepYJCIi0kyqiYqISMzonqiIiEgzJVtzboNJ1Mwy6lvu7iWxC0dERBKZaqK7Wgo41Pr1woH9YxqRiIgkLNVEa3D3/VoiEBERkUTT6N65FviJmf0+fL+vmR0Vv9BERCTRuFtUU6JpyiMuU4EhwIXh+61AXswjEhGRhFUR5ZRomtI792h3P9zM3gRw9y/MrEOc4hIRkQSUiLXJaDSlJlpmZqkEnYkws+4k5hcHERGRmGhKTfQu4Emgh5ndCpwL/C4uUYmISEJS79w6uPvDZrYUGEbwuMtId18et8hERCThJFtzbqOTqJndBcx2d3UmEhGRWiVbTbQp90SXAr8zszVmNtHMjoxXUCIikpgqPLop0TQ6ibr7LHc/DRgMvA/80cxWxS0yERGRNq45A9AfAAwAvgXonqiIiFRJtubcptwTvQP4IbAGmA3c4u6b4hSXiIgkIHUsqtsaYIi7F8UrGBERSWyegPc1o9GUjkV/BUaY2Y2gsXNFRGRXFVhUU6JpSk00j2CEopOBmwnGzv07QUejNsHdmT5tGkuWLGGPPfbg2l/+kgMOOGCXcqtWrWLy5MmU7tjB4MGDuWzMGMyMrVu3MmHCBD7fuJEePXsybtw40tPT693uGaefTr9+/QDo3r07f7jppqpYHpg1i5dfeYXUlBROO/10zjrrrJY6FS2ioKCAadOnU1FRwYhTT+W8886rtry0rIxJEyeyavVq9kpPZ9y4cfTs2ROARx99lLnz5pGSksLlY8ZwxBFHUFhYyMRJk/jiiy8wM74/YgQjR44EYMKECXy6bh0A27Zto3PnzuTl5rbo8SaSgX+9jR6nnUjp58UsOuzM1g6nzYv1tVxaWsp1v/41ZWVllJeXc+yxx/K/P/kJAH+84w5WrVpFu3btyM7OZuxVV9GuXXO6p0hb0JSa6NHufgXwNQRj5wJtauzcgiVLWLd+PffMnMnYsWPJreNDNi83l6vHjuWemTNZt349BQUFADz22GMMGjSIe2bOZNCgQTz+2GMNbrdDhw7k5uWRm5dXlUABnn/+eQqLipgxYwbTZ8zghBNOiN+Bt4Ly8nLypk7llptvZvq0aby0cCEfffxxtTLz5s6lc+fO3DtzJiN/+EPuvfdeAD76+GMWLlrEtGnTGH/LLeTm5VFeXk5qaiqXXnIJM6ZP587Jk3nmmWeqtjlu3DjycnPJy83l2GOOYejQoS1+zInk01n/4PUzLmntMBJCPK7l9u3bc/uECUzNyyMvN5elBQUsX7ECgJNOOom/zpjB3VOnUlpaynNz57b4McdTa/6Ki5llmNnzZrYq/LdbLWUGmdliM3vXzP5rZj+OWHa/ma01s2XhNKihfe5WY+fm5+czbNgwzIwBBx/Ml9u2UVJSUq1MSUkJ27dvZ8DBB2NmDBs2jPzFi4P1Fy9m+PDhAAwfPpzFlfMbsd2anv3Xv7jwwgtJSQlOcdeuXWN8tK1r5cqV9O7dm169etG+fXtOOP74qvNYaXF+ftX5PO7YY1n21lu4O/mLF3PC8cfToX179t57b3r37s3KlSvJyMioquGnpaXRd999KS6qfgve3Vn08sucuJt9KYm1klcKKCvZ3NphJIR4XMtmxp577gnAzp072VleXtVQedTgwZgZZsZB2dkUFe1e3Uzco5uidAOwwN0PBBaE72vaDlzk7t8GRgBTzKxrxPLr3H1QOC1raIdNSaI1x859BbitCevHXVFxMd2zsqreZ2Vl7XKBFhUVkVWzTHExAJs2bSIjIwOAbt26sWnTpga3W1paytixY7nmF7/gtddeqyrz2WefsWjhQsaOHcvvf/971oVNkbuL2s5JcXgeKxUXF5PVvTsAqamppKWlsWXLFoqLi+kezq9ct6jGuhs3bmTNmjUcNGBAtfnvvPMO3bp2ZZ999on1IUmSite1XF5ezhVXXskFF17IYYcdxoAa1/LOnTtZ8MILHHnEEfE6tFbhWFRTlM4CZoWvZwEjd4nPfaW7rwpfrwc+B7rXLNdYGju3DpXfFBty/6xZZGVl8dlnnzHuhhvYr18/evXuTVlZGR06dOCuu+7i1VdfZcqdd/KniRNbIPLE99VXXzH+1lu5bPRoOqWlVVv20sKFnHDiia0TmEgTpKamkpeby7Zt27hl/Hg+/PDDqv4TAHl5eRx66KEceuihrRfk7qenu38Wvt4A9KyvcNg5tgPB0yeVbg070C4AbnD3HfVto8GaaNjGnGFmGQQZ+xHgb8DGcF5d6402swIzK5j9yCMN7abZ5syZw5VXXMGVV1xBRkYGhRE1z5q1Tti1dlpUVERWZiYQNLlWNtOWlJTQpUuXYJ3MzDq3W/lvr169GDhwIGvWrKmaP/SYYwAYOnQoa9eujelxt7bazklmeB4rZWZmUlRYCATfyrdv385ee+1FZmYmheH8ynUr/wY7d+5k/K23ctKJJ3JMeP4qlZeX89prr3H88cfH67AkCcXrWq7UuXNnBg4cSMHSpVXzHn74YTZv3szoSy+NxyG1qmiH/YvMHeE0OnL7ZjbfzN6pZarWc9PdnfD2Y23MrBfwIPBTd6+8NTmOYDChwUAGcH1Dx9uY5tylQEH4b+XrgojXtXL3Ge5+pLsfef4FFzRiN81z5plnVnXsGTJkCAsWLMDdWbF8OZ06dapqnq2UkZFBWloaK5Yvx91ZsGABOTk5AOTk5DB//nwA5s+fT86QIQAcnZNT63a3bt1KWWkpAJs3b+a9995j3333BWDIkCH89623AHj77bd3u+bH7Oxs1q9fz4YNGygrK2PhokVV57FSztFHV53Pl195he8OHIiZkZOTw8JFiygtK2PDhg2sX7+e7Oxs3J0pU6bQt29fzj777F32+eabb9KnT59qTW8i0YrHtbxp82a2bdsGwI4dO3jzzTfp26cPAM899xxL33iD66+/vqrPxO4k2o5FkbkjnGZU374Pd/dDa5meIqjc9YKqJPl5bTGa2V7Av4Dfunt+xLY/88AO4D6gwcc4zWP0ZKyZfdvd361t2ZoPPmiRx2/dnalTp7K0oIA9OnbkmmuuITs7G4Arr7iC3LzgB2hWrlzJnZMns2PHDo4cPJjLL78cM2PLli1MuO02CgsL6dGjB+N+85uqR1xq2+57773HX/7yF1LMqHBn5MiRnHrqqUDwGMaf7riDzwsL2bNjR6686ir233//uB27tcITzq8vWcKM6dMpr6jglFNO4YLzz+eBBx8k+8ADycnJobS0lD9NnMiaNWtIT0/nhuuvp1evXgA8Mns28+bNIzU1lctGj2bw4MG88+67XHfddfTr16/qw2XUqFEcNTh4imrS5MkMOOggTj/99BY/1krLB5zWavtuikEPTiLzhKPokNWNHRuLWXXzX/jkvidaO6xGOXjFsy2+z1hfy2vXrmXipElUVFTg7hx33HH8z4UXAnD6GWfQo0cP0sJbFUOHDq1a1lL2798/bg9kPvtGWVQfRqcd3r7ZsZnZn4Bid7/dzG4AMtz91zXKdAD+Dcxx9yk1lvVy988suJd3J/C1u9fWOembdWKYRN9w98NrW9ZSSTSZtUYSTUaJkkQTWWsk0WQTzyT6zBs7o/owOuPwdtEk0UzgMWBf4CPgPHcvCX91bIy7X2JmPyGoZUZW+i5292Vm9gJBJyMDloXrbKtvn7F8wjfxhpoQEZHdhrsXE3R+rTm/ALgkfP0Q8FAd65/c1H3GMomqKiQikuSSrVFMY02JiEjM6Fdcmq80htsSEZEEVJFkNdFG9682s/a1zKt61sDdc2ouFxER2Z01ZrCFk8zsU+AzM5tnZv0iFs+LW2QiIpJwWnns3BbXmJroHcCp7p4FzACeN7PKWmdyNX6LiEi9Wnns3BbXmHuiHSoHUXD3J8xsOfAPM7se9cgVEZEIyXZPtDFJtMzM9nb3DQDu/q6ZDQOeAfrHNToREUkoidgkG43GNOfeQI2R8N39U+BE4PY4xCQiIpIQGqyJuvv8yteVv9ri7iXuvgm4NX6hiYhIolFNtAYz29fMZptZIfAf4HUz+zyc1y/uEYqISMKocItqSjSNac59FHgS2NvdD3T3A4BewD+B2XGMTUREEowecdlVlrs/6u7llTPcvdzdZwOZ9awnIiJJJtmSaGN65y41s6nALOCTcF5f4GLgzTjFJSIi0uY1JoleBPwcuAnoE877FJgD3BOfsEREJBHpOdEa3L0UuNvMhgAXuvsXAGbWDZgG/Cy+IYqISKLQr7jU7TuVCRTA3b8ws8PiEJOIiCSoRLyvGY1G/4oLkBLWPoGqZ0b1e6QiIpK0mpIEJwGLzezx8P2P0GALIiISQfdE6+DuD5hZAXByOOtsd38vPmGJiEgiSrbm3CY1x4ZJU4lTRERqpSQqIiLSTMnWnNuUjkUiIiISQTVRERGJGTXnioiINFNFRWtH0LKUREVEJGZUExUREWmmZEui6lgkIiLSTKqJiohIzCTbIy5KoiIiEjMedXtuYv0KjJKoiIjEjO6JioiISKMoiYqISMxUVEQ3RcPMMszseTNbFf7brY5y5Wa2LJyejpi/n5n9x8xWm9mjZtahoX0qiYqISMy4RzdF6QZggbsfCCwI39fmK3cfFE4/iJj/R+BOdz8A+AL4eUM7VBIVEZGYqfDopiidBcwKX88CRjZ2RTMzgp/6fKIp67dIxyJLtjvNrcAtsXq0JaqDVzzb2iHs9pYPOK21Q9jt7V/2fty2He3HvZmNBkZHzJrh7jMauXpPd/8sfL0B6FlHuY7h72PvBG53938CmcAmd98ZlvkU2KehHap3roiItBlhwqwzaZrZfGDvWhb9tsZ23MzqSunfcvd1ZrY/8IKZvQ1sbk68SqIiIhIzHnWbbP2tau4+vM41zTaaWS93/8zMegGf17GNdeG/H5jZS8BhwN+BrmbWLqyN9gHWNRSt7omKiEjMtPI90aeBUeHrUcBTNQuYWTcz2yN8nQUcA7znwSgRLwLn1rd+TUqiIiISM63cO/d24HtmtgoYHr7HzI40s3vCMgcDBWb2FkHSvN3d3wuXXQ9ca2arCe6Rzmxoh2rOFRGRmKloxcFz3b0YGFbL/ALgkvD1a8B36lj/A+CopuxTNVEREZFmUk1URERiJtmeaFQSFRGRmFESFRERaaaKJMuiuicqIiLSTKqJiohIzHiUv8SSaJRERUQkZjzJmnOVREVEJGai/U3QRKMkKiIiMZNsNVF1LBIREWkm1URFRCRmWnHUv1ahJCoiIjET/U+hJRYlURERiZkkuyWqJCoiIrHTmr/i0hrUsUhERKSZVBMVEZGY0SMudTCzpWZ2hZl1i2dAIiKSuLwiuinRNKU598dAb2CJmc02s1PNzOIUl4iIJKAK96imRNPoJOruq939t0A28DfgXuAjM/s/M8uIV4AiIiJtVZPuiZrZQOCnwGnA34GHgWOBF4BBsQ5OREQSS7LdE210EjWzpcAmYCZwg7vvCBf9x8yOiUNsIiKSYJLtEZem1ER/5O4fRM4ws/3cfa27nx3juEREJAElWUW0SR2LnmjkPBERSVJe4VFNiabBmqiZDQC+DXQxs8ga515Ax3gFJiIi0tY1pjn3IOAMoCtwZsT8rcClcYhJREQSVCI+phKNBpOouz8FPGVmQ9x9cQvEJCIiCSoRm2Sj0Zjm3F+7+x3AhWZ2Qc3l7j42LpGJiEjCURLd1fLw34J4BiIiIokvyXJoo5pz54T/zop/OCIiIomjMc25c4A6v1u4+w9iGpGIiCQsNefuamL479nA3sBD4fsLgI3xCEpERBKThv2rwd0XApjZJHc/MmLRHDNrs/dJCwoKmDZ9OhUVFYw49VTOO++8astLy8qYNHEiq1avZq/0dMaNG0fPnj0BePTRR5k7bx4pKSlcPmYMRxxxBIWFhUycNIkvvvgCM+P7I0YwcuRIAB544AEW5+eTkpJCly5d+OW115KZmdnSh9zq3J3p06axZMkS9thjD6795S854IADdim3atUqJk+eTOmOHQwePJjLxozBzNi6dSsTJkzg840b6dGzJ+PGjSM9PZ1PPvmEOydPZvXq1YwaNYpzzj23FY6u9cT6Wi4tLeW6X/+asrIyysvLOfbYY/nfn/wEgD/ecQerVq2iXbt2ZGdnM/aqq2jXTj87XJeBf72NHqedSOnnxSw67MyGV0gCyTbsX1NGLOpkZvtXvjGz/YBOsQ8peuXl5eRNncotN9/M9GnTeGnhQj76+ONqZebNnUvnzp25d+ZMRv7wh9x7770AfPTxxyxctIhp06Yx/pZbyM3Lo7y8nNTUVC695BJmTJ/OnZMn88wzz1Rt85xzz+XuqVPJy83l6KOO4m9/+1uLH3NbULBkCevWr+eemTMZO3Ysubm5tZbLy83l6rFjuWfmTNatX09BQfBd7LHHHmPQoEHcM3MmgwYN4vHHHgMgPT2dMWPGcM4557TYsbQV8biW27dvz+0TJjA1L4+83FyWFhSwfMUKAE466ST+OmMGd0+dSmlpKc/Nndvix5xIPp31D14/45LWDkNCZpZhZs+b2arw311+/9rMTjKzZRHT12Y2Mlx2v5mtjVg2qKF9NiWJXgO8ZGYvmdlC4EXgF01Yv8WsXLmS3r1706tXL9q3b88Jxx9P/uLqj7guzs9n+PDhABx37LEse+st3J38xYs54fjj6dC+PXvvvTe9e/dm5cqVZGRkVNWq0tLS6LvvvhQXFQHQKS2tartff/01JOnPrObn5zNs2DDMjAEHH8yX27ZRUlJSrUxJSQnbt29nwMEHY2YMGzas6m+Tv3hx1d9k+PDhLA7nd+3aleyDDiI1CWtE8biWzYw999wTgJ07d7KzvJzKK/aowYMxM8yMg7KzKQqvcaldySsFlJVsbu0w2hR3j2qK0g3AAnc/EFgQvq8Z34vuPsjdBwEnA9uBeRFFrqtc7u7LGtphoz+V3P05MzsQGBDOWhHxSy5tSlFxMd2zsqreZ2Vl8f7771crU1xcTFb37gCkpqaSlpbGli1bKC4uZsCAAdXWLSourrbuxo0bWbNmDQdFlLt/1iwWLFhAp06duP322+NxWG1ebee9qKiIjIxvfm62qKiIrJplwvO7adOmqrLdunVj06ZNLRN4Gxava7m8vJyxV1/N+vXrOeOMM6qVgyC5LnjhBcZcdlm8Dk12U63csegs4MTw9SzgJeD6esqfC/zb3bc3d4cN1kTN7OTw37OB04H+4XR6jbF0a6432swKzKzgkdmzmxtfm/PVV18x/tZbuWz06Go10ItHjeLBBx7gpBNPZM6cOa0Y4e6hsjYk8ZGamkpebi4PPvAAK1eu5MMPP6y2PC8vj0MPPZRDDz20dQKUhBXtAPSRuSOcRjdh9z3d/bPw9QagZwPlzwceqTHvVjP7r5ndaWZ7NLTDxtRETyD40e3a7po78I/aVnL3GcAMgA/WrGnRryZZmZkURjRDFRUV7dLRJzMzk6LCQrpnZVFeXs727dvZa6+9yMzMpLCwsNq6WeG6O3fuZPytt3LSiSdyzDG1/4TqSSedxI1/+ENVR43d3Zw5c5j73HMAHJidvct5j6x1wje102plwvPbtWtXSkpKyMjIoKSkhC5durTAEbRt8bqWK3Xu3JmBAwdSsHQp/fr1A+Dhhx9m8+bN/O6qq+J3YLLbinbs3MjcURszm0/wpEhNv62xHTezOoMxs17Ad4DIG//jCJJvhzCG64Gb64u3wZqou/8h/PentUw/a2j91pCdnc369evZsGEDZWVlLFy0iJycnGplco4+mvnz5wPw8iuv8N2BAzEzcnJyWLhoEaVlZWzYsIH169eTnZ2NuzNlyhT69u3L2WdXr4CvW7eu6vXi/Hz69OkT/4NsI84880xy8/LIzctjyJAhLFiwAHdnxfLldOrUqVpTLkBGRgZpaWmsWL4cd2fBggVVf5ucnJyqv8n8+fPJGTKkxY+nrYnHtbxp82a2bdsGwI4dO3jzzTfpG16zzz33HEvfeIPrr7+elJSmdJkQaRnuPtzdD61legrYGCbHyiT5eT2bOg940t3LIrb9mQd2APcBRzUUjzX2Rq6ZdQUuAvoRUYNtzNi5LV0TBXh9yRJmTJ9OeUUFp5xyChecfz4PPPgg2QceSE5ODqWlpfxp4kTWrFlDeno6N1x/Pb169QLgkdmzmTdvHqmpqVw2ejSDBw/mnXff5brrrqNfv35VHy6jRo3iqMGDGT9+PJ+uW4eZ0aNHD6668spdamDx5m2g6dPdmTp1KksLCtijY0euueYasrOzAbjyiivIzcsDgs4yd06ezI4dOzhy8GAuv/xyzIwtW7Yw4bbbKCwspEePHoz7zW9IT0+npKSEq8eOZfv27aSkpNCxY0emT59OWqeW7xxurfAMXKyv5bVr1zJx0iQqKipwd4477jj+58ILATj9jDPo0aMHaeGtiqFDh1YtaynLB5zWovuLxqAHJ5F5wlF0yOrGjo3FrLr5L3xyX9v/meXTy96P2wfGqBs3RPWfZNbNezc7NjP7E1Ds7reb2Q1Ahrv/uo6y+cA4d38xYl4vd//MgntJdwJfu/sunZOqbacJSfQ1IB94G6ionN+Y4QBbI4kmm7aQRJNBayTRZJNISTRRxTOJXvT7z6L6T/LALb2iSaKZwGPAvsBHwHnuXmJmRwJj3P2SsFw/4FWgr7tXRKz/AtAdMGBZuM62+vbZlGcGOrr7tU0oLyIiSaY1B1tw92JgWC3zC4BLIt5/COxTS7mTm7rPpiTRB83sUuAZoOrRFncvqXsVERFJJho7t26lwJ8IekBVniUH9q9zDRERkd1YU5LoL4ED3F1DmIiISK00AH3dVhMMjyQiIlIrr6houNBupClJ9EtgmZm9SPV7og0+4iIiIskh2X7FpSlJ9J/hJCIiIjRtAPoGnwcVEZHkpnuidTCztXzTK7eKu6t3roiIAHrEpT5HRrzuCPwIyKijrIiIJCEl0TqEI0FEmmJmS4EbYxuSiIgkqgpX79xamdnhEW9TCGqmTanJioiI7FaakgQn8c090Z3AhwRNuiIiIoCac+vzfeAcqv8U2vk08IOlIiKSPJRE6/ZPYBPwBvB1PIIREZHEpkdc6tbH3UfELRIREZEE05Qk+pqZfcfd345bNCIiktAqNHZudWb2NkGHonbAT83sA4Kxcw1wdx8Y3xBFRCRR6J7ors6IexQiIrJbcD0nWp27f9QSgYiISOJLtppoSmsHICIikqg04pCIiMRMstVElURFRCRmNHauiIhIM6kmKiIi0kyeZM+JqmORiIhIM6kmKiIiMaPmXBERkWbSYAsiIiLNVJFkNVHdExUREWkm1URFRCRmkq13rpKoiIjETLJ1LFJzroiIxIx7RVRTNMzsR2b2rplVmNmR9ZQbYWbvm9lqM7shYv5+ZvafcP6jZtahoX0qiYqISMx4hUc1Rekd4GxgUV0FzCwVyAO+DxwCXGBmh4SL/wjc6e4HAF8AP29oh0qiIiKyW3D35e7+fgPFjgJWu/sH7l4KzAbOMjMDTgaeCMvNAkY2tE/dExURkZhJgI5F+wCfRLz/FDgayAQ2ufvOiPn7NLSxFkmi+/fvby2xn1gys9HuPqO149id6RzHXyKe4/3LGqpItD2JeJ7j5ZU5J0T1eW9mo4HREbNmRJ5bM5sP7F3Lqr9196ei2XdzqCZat9GA/lPEl85x/Okctwyd5xgJE2ad59Ldh0e5i3VA34j3fcJ5xUBXM2sX1kYr59dL90RFRCSZLAEODHvidgDOB552dwdeBM4Ny40CGqzZKomKiMhuwcx+aGafAkOAf5nZ3HB+bzN7FiCsZV4JzAWWA4+5+7vhJq4HrjWz1QT3SGc2uM8g+UpNuscRfzrH8adz3DJ0npOXkqiIiEgzqTlXRESkmZREJSbMrKuZ/b/WjkOkPmbWz8zeicN2bzazXXqNmtmJZvZM+PoHlUPMmdnIiFFyJIG12STa1IvdzC42s94R739hZmnxia5qHy/VNz5jW9lmC+kKKInGiJntEY7duTocy7NfOP97ZrbUzN4O/z25ge18aGZZMY4t5ttMdO5+o7vPb6DM0+5+e/h2JMGQc5Lg2mwSbYaLgd4R738BNCmJhmMqSvPcDvQ3s2Vm9iczu87MlpjZf83s/6Dqi9EKM7vfzFaa2cNmNtzMXjWzVWZ2VFjuJjN70MwWh/MvbdUjax0/B74Ix/C8k2BMT4Ai4Ex3/w5BF/wHWym+RJZqZn8NByqfZ2Z7Rn55NbMsM/swfH2xmf3TzJ4PvzxcaWbXmtmbZpZvZhlhufvN7Nzw9YjwOn+DYBxXIraVa2ZDgR8Afwr/v/QPy1aWOzDyvbRtbT2Jtgs/aJeb2RNmlmZmN4Yfzu+Y2QwLnAscCTwcXpRXEyTUF83sRQAzOyX8UH7DzB43s87h/A/N7I/hRXtDcy/m2rYf/md6PKJMZNNOrfEksBuANe4+CHgeOJBgjMpBwBFmdnxY7gBgEjAgnC4EjgV+BfwmYnsDCcaxHALcGNnKsDsys4vCLxxvmdmDwFkEY3dCMJbnMDMzd3/T3deH898F9jSzPRq5j5+Y2evh/5HpZpZqZmPM7E8RZS42s9y6ysfuiFvVgUCeu38b2ASc00D5QwmS4WDgVmC7ux8GLAYuiixoZh2BvwJnAkdQy8g67v4a8DRwnbsPcvc1wGYzGxQW+SlwX7OOTFpcW0+iBwFT3f1gYAtBc2Guuw9290OBPYEz3P0JoAD4n/Ci/DOwHjjJ3U8Km55+Bwx398PDstdG7KfY3Q9391tpxsVcz/bnA0ebWaew6I+B2Y2IJ9GdEk5vAm8QJMsDw2Vr3f1tD37z6F1gQfiQ89tAv4htPOXuX7l7EcED0Ee1VPAtzcy+TXA9nOzu3wWuJmJ8z/C5ts0Ez61FOgd4w913NGIfBxNcf8eEX3TKgf8B/g78MKJo5TVaV/ndwVp3Xxa+Xkr16642L7r7VncvJPg7zAnn17xmIbjW17r7qvC6fqiRMd0D/DT8ovJj4G+NXE9aWVsf9u8Td381fP0QMBZYa2a/JmiqzSD4IJ5Tx/qVcgjuP7xqZgAdCL5FVno04nXlxXwtwcXcmA/vWrfv7jvN7DngTDN7Ajgd+DVwQgPxJDoDJrj79Gozg/t6kR/4FRHvK6h+PdZ89mp3fhbrZODx8AsD7l4SXhd1ChPvHwm+rDTGMIKa0ZJw23sCn7t7oZl9YGY5wCqCJPAqcEVt5Zt4XG1V5DVYTnBsO/mmUtGxnvL1XbPR+DvwB+AFYKm7F8douxJnbT2J1vZBOhU40t0/MbOb2PWCr40Bz7v7BXUs/zLidXMu5vq2P5tgdIwSoMDdt1rwqVRfPIloK5Aevp4L3GJmD7v7NjPbByhr4vbOMrMJQCfgRILm4mRSOb7np2bWDuhCMLYnZtYHeBK4KGwKbAwDZrn7uFqWzQbOA1YAT7q7h9doXeV3Rx8SfGl4nW+GfWuOFUA/M+sf/m3q+j8e+f8Fd//agtF17qYRv2EpbUdbb87d18yGhK8vBF4JXxeF9xAjL/ZqF2WN9/nAMWZ2AICZdTKz7Np26O5fEySBu2n8fYn6tr8QOBy4lODDqknxJIrwy8arFvSo/h5Bc9RiM3ub4J5een3r1+K/BM24+cAtEfcBd0cvAD8ys0wACzqrPE3QcQiC6/yFMLl1Bf4F3BDRStMYC4BzzaxH5T7M7FvhsicJ7sFewDfXaH3ld0cTgcvN7E2g2T2Pw8+P0QRDzr1B3bX32cB1FnRQ6h/Oe5igdjuvufuXVuDubXIiuNewgqAZdzlBDTENGA+sIWhyug+4KSx/DvA+sIygeeaq8P2L4fKTCQYe/m84/SCc/yGQVWPfOQS/JZfaQIwvEdSK69x+uCwX2AakRcyrK56qbSbrBNwE/Kq142jhYx4FvAO8BdxP0MLyOLCaoHa0f1judwQtJ8siph71bLfq+ia4PbEsvN6WAjkR5Z4BPqixbq3la/s/oykm18CvCL4wtnosmho/adi/WpjZr4Au7v771o4lGYXN9NvcfWJrxyLSEszsSaA/QeeyotaORxpPSbQGXcwiItJYSqKNECbW/WrMvt7d57ZGPCI1mdl/gJrPi/6vu7/dGvGIJAslURERkWZq671zRURE2iwlURERkWZSEhUREWkmJVEREZFmUhIVERFppv8PPeSkkwnj4csAAAAASUVORK5CYII=\n",
       "datasetInfos": [],
       "metadata": {},
       "removedWidgets": [],
       "type": "image"
      }
     },
     "output_type": "display_data"
    }
   ],
   "source": [
    "import seaborn as sns\n",
    "\n",
    "# Select numerical columns and convert to Pandas\n",
    "numerical_data = df.select(\"battery_level\", \"temp\", \"c02_level\", \"humidity\").toPandas()\n",
    "\n",
    "# Calculate correlations\n",
    "correlation_matrix = numerical_data.corr()\n",
    "\n",
    "# Plot the heatmap\n",
    "plt.figure(figsize=(8, 6))\n",
    "sns.heatmap(correlation_matrix, annot=True, cmap=\"coolwarm\", vmin=-1, vmax=1)\n",
    "plt.title(\"Correlation Heatmap of IoT Features\")\n",
    "plt.show()"
   ]
  },
  {
   "cell_type": "code",
   "execution_count": null,
   "metadata": {
    "application/vnd.databricks.v1+cell": {
     "cellMetadata": {
      "byteLimit": 2048000,
      "rowLimit": 10000
     },
     "inputWidgets": {},
     "nuid": "bc36327d-ee04-4402-b5af-49f77a8b05b3",
     "showTitle": false,
     "tableResultSettingsMap": {},
     "title": ""
    }
   },
   "outputs": [
    {
     "name": "stdout",
     "output_type": "stream",
     "text": [
      "+-----------------+----------+\n",
      "|         features|prediction|\n",
      "+-----------------+----------+\n",
      "| [8.0,868.0,34.0]|         1|\n",
      "|[7.0,1473.0,11.0]|         0|\n",
      "|[2.0,1556.0,19.0]|         0|\n",
      "|[6.0,1080.0,28.0]|         1|\n",
      "| [4.0,931.0,25.0]|         1|\n",
      "|[3.0,1210.0,27.0]|         0|\n",
      "|[3.0,1129.0,18.0]|         1|\n",
      "|[0.0,1536.0,27.0]|         0|\n",
      "| [3.0,807.0,13.0]|         1|\n",
      "|[7.0,1470.0,26.0]|         0|\n",
      "|[3.0,1544.0,16.0]|         0|\n",
      "|[0.0,1260.0,12.0]|         0|\n",
      "|[6.0,1007.0,13.0]|         1|\n",
      "|[1.0,1346.0,16.0]|         0|\n",
      "|[9.0,1259.0,13.0]|         0|\n",
      "|[4.0,1425.0,15.0]|         0|\n",
      "|[0.0,1466.0,31.0]|         0|\n",
      "|[4.0,1096.0,31.0]|         1|\n",
      "|[9.0,1531.0,29.0]|         0|\n",
      "|[7.0,1155.0,10.0]|         1|\n",
      "+-----------------+----------+\n",
      "only showing top 20 rows\n",
      "\n"
     ]
    }
   ],
   "source": [
    "from pyspark.ml.feature import VectorAssembler\n",
    "from pyspark.ml.classification import OneVsRest\n",
    "from pyspark.ml.clustering import KMeans\n",
    "from pyspark.ml.feature import StandardScaler\n",
    "from pyspark.ml import Pipeline\n",
    "\n",
    "# Prepare data for Isolation Forest or other anomaly detection\n",
    "assembler = VectorAssembler(inputCols=[\"battery_level\", \"c02_level\", \"temp\"], outputCol=\"features\")\n",
    "device_features = assembler.transform(df).select(\"features\")\n",
    "\n",
    "# Set up an Isolation Forest or use KMeans as a proxy for anomaly detection\n",
    "isolation_forest = KMeans(k=2, seed=1, featuresCol=\"features\")\n",
    "model = isolation_forest.fit(device_features)\n",
    "\n",
    "# Use the model to predict clusters\n",
    "predictions = model.transform(device_features)\n",
    "predictions.show()"
   ]
  },
  {
   "cell_type": "code",
   "execution_count": null,
   "metadata": {
    "application/vnd.databricks.v1+cell": {
     "cellMetadata": {
      "byteLimit": 2048000,
      "rowLimit": 10000
     },
     "inputWidgets": {},
     "nuid": "f8679ca1-9e07-412a-8c9b-7ebd9f6fc034",
     "showTitle": false,
     "tableResultSettingsMap": {},
     "title": ""
    }
   },
   "outputs": [
    {
     "name": "stdout",
     "output_type": "stream",
     "text": [
      "+--------------------+-----+------------+\n",
      "|                  cn|brand|device_count|\n",
      "+--------------------+-----+------------+\n",
      "|               Chile|Other|         314|\n",
      "|  Dominican Republic|Other|          16|\n",
      "|            Portugal|Other|         364|\n",
      "|             Ecuador|  Mac|          32|\n",
      "|              Zambia|Other|           6|\n",
      "|Saint Vincent and...|Other|           9|\n",
      "|            Honduras|  Mac|          14|\n",
      "|             Hungary|Other|         647|\n",
      "|              Taiwan|  Mac|         376|\n",
      "|            Colombia|Other|         353|\n",
      "|           Guatemala|  Mac|          18|\n",
      "|        Saudi Arabia|  Mac|          27|\n",
      "|Hashemite Kingdom...|Other|          41|\n",
      "|            Thailand|  Mac|         163|\n",
      "|            Pakistan|  Mac|          35|\n",
      "|               Syria|Other|           4|\n",
      "|           Venezuela|  Mac|          42|\n",
      "|             Bermuda|Other|          44|\n",
      "|              Kuwait|Other|         110|\n",
      "|             Armenia|Other|          26|\n",
      "+--------------------+-----+------------+\n",
      "only showing top 20 rows\n",
      "\n"
     ]
    }
   ],
   "source": [
    "from pyspark.sql.functions import when, col, count\n",
    "\n",
    "# Step 1: Create a new DataFrame with a brand column\n",
    "device_dist = df.withColumn(\n",
    "    \"brand\",\n",
    "    when(col(\"device_name\").like(\"device-mac%\"), \"Mac\")\n",
    "    .when(col(\"device_name\").like(\"device-samsung%\"), \"Samsung\")\n",
    "    .when(col(\"device_name\").like(\"device-apple%\"), \"Apple\")\n",
    "    .when(col(\"device_name\").like(\"device-dell%\"), \"Dell\")\n",
    "    .otherwise(\"Other\")\n",
    ")\n",
    "\n",
    "# Step 2: Group by country and brand, then count devices\n",
    "device_dist = device_dist.groupBy(\"cn\", \"brand\").agg(count(\"device_name\").alias(\"device_count\"))\n",
    "\n",
    "# Show the new DataFrame with device counts by country and brand\n",
    "device_dist.show()"
   ]
  }
 ],
 "metadata": {
  "application/vnd.databricks.v1+notebook": {
   "dashboards": [],
   "environmentMetadata": null,
   "language": "python",
   "notebookMetadata": {
    "mostRecentlyExecutedCommandWithImplicitDF": {
     "commandId": 2042230837843414,
     "dataframes": [
      "_sqldf"
     ]
    },
    "pythonIndentUnit": 4
   },
   "notebookName": "2024-11-02 - Assignment_3-Ilana Berger Fridman",
   "widgets": {}
  },
  "kernelspec": {
   "display_name": "Python 3 (ipykernel)",
   "language": "python",
   "name": "python3"
  },
  "language_info": {
   "codemirror_mode": {
    "name": "ipython",
    "version": 3
   },
   "file_extension": ".py",
   "mimetype": "text/x-python",
   "name": "python",
   "nbconvert_exporter": "python",
   "pygments_lexer": "ipython3",
   "version": "3.12.4"
  }
 },
 "nbformat": 4,
 "nbformat_minor": 4
}
