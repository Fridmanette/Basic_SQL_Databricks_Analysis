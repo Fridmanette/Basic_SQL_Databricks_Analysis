{
 "cells": [
  {
   "cell_type": "code",
   "execution_count": null,
   "id": "482d8a19-5e5e-45bc-bce4-42a6d2104bbd",
   "metadata": {},
   "outputs": [],
   "source": [
    "git add your_file.sql\n",
    "git commit -m \"Add SQL file\"\n",
    "git push"
   ]
  },
  {
   "cell_type": "code",
   "execution_count": null,
   "id": "d45bc4c0-228f-4098-bfd6-e71b9ebdac0a",
   "metadata": {},
   "outputs": [],
   "source": [
    "# File location and type\n",
    "file_location = \"/FileStore/tables/iot_devices.json\"\n",
    "file_type = \"json\"\n",
    "\n",
    "# CSV options\n",
    "infer_schema = \"false\"\n",
    "first_row_is_header = \"false\"\n",
    "delimiter = \",\"\n",
    "\n",
    "# The applied options are for CSV files. For other file types, these will be ignored.\n",
    "df = spark.read.format(file_type) \\\n",
    "  .option(\"inferSchema\", infer_schema) \\\n",
    "  .option(\"header\", first_row_is_header) \\\n",
    "  .option(\"sep\", delimiter) \\\n",
    "  .load(file_location)\n",
    "\n",
    "display(df)"
   ]
  },
  {
   "cell_type": "code",
   "execution_count": null,
   "id": "daebcf37-4b7d-43cf-a863-c4be666993f0",
   "metadata": {},
   "outputs": [],
   "source": [
    "# Create a view or table\n",
    "\n",
    "temp_table_name = \"iot_devices_json\"\n",
    "\n",
    "df.createOrReplaceTempView(temp_table_name)\n",
    "df.count()"
   ]
  },
  {
   "cell_type": "code",
   "execution_count": null,
   "id": "b40238fd-cd8b-451a-ad5c-7c83bc577483",
   "metadata": {},
   "outputs": [],
   "source": [
    "''' With this registered as a temp view, it will only be available to this particular notebook. If you'd like other users to be able to query this table, \n",
    "you can also create a table from the DataFrame. Once saved, this table will persist across cluster restarts as well as allow various users across different notebooks to query this data.\n",
    "To do so, choose your table name and uncomment the bottom line.'''\n",
    "\n",
    "permanent_table_name = \"iot_devices_json\"\n",
    "\n",
    "# df.write.format(\"parquet\").saveAsTable(permanent_table_name)"
   ]
  },
  {
   "cell_type": "code",
   "execution_count": null,
   "id": "3d066359-b8ef-4823-82d1-cb66b59f30c4",
   "metadata": {},
   "outputs": [],
   "source": [
    "'''\n",
    "PySpark filter() function is used to create a new DataFrame by filtering the elements from an existing DataFrame based on the given condition or SQL expression. It is similar to Python’s filter() function but operates on distributed datasets. It is analogous to the SQL WHERE clause and allows you to apply filtering criteria to DataFrame rows.\n",
    "\n",
    "Alternatively, if you have a background in SQL, you can opt to use the where() function instead of filter(). Both functions work identically. They generate a new DataFrame containing only the rows that satisfy the specified condition.'''\n",
    "\n",
    "from pyspark.sql.functions import col, asc, count\n",
    "TempFilter1 = df.filter(col(\"cn\") == \"Poland\").filter(col(\"device_name\").like(\"sensor-pad%\"))\n",
    "TempFilter1.count()\n",
    "\n",
    "df.where((col('cn') == \"Poland\") & (col('device_name').like(\"sensor-pad%\"))).count()"
   ]
  },
  {
   "cell_type": "code",
   "execution_count": null,
   "id": "6487d96b-9c19-4d7f-ad31-4b7d3cace230",
   "metadata": {},
   "outputs": [],
   "source": [
    "df.select(\"lcd\").distinct().show()\n",
    "distinct_color_count = df.select(\"lcd\").distinct().count()\n",
    "print(f\"Number of distinct LCD colors: {distinct_color_count}\")"
   ]
  },
  {
   "cell_type": "code",
   "execution_count": null,
   "id": "61e42adc-dbc2-4f49-9f08-c6f80e103ef5",
   "metadata": {},
   "outputs": [],
   "source": [
    "mac_devices_df = df.filter(col(\"device_name\").like(\"device-mac%\"))\n",
    "\n",
    "# Group by country (\"cn\") and count the number of MAC devices\n",
    "country_mac_counts = mac_devices_df.groupBy(\"cn\").agg(count(\"device_name\").alias(\"mac_device_count\"))\n",
    "\n",
    "# Order by the count in descending order and select the top 5 countries\n",
    "top_countries = country_mac_counts.orderBy(\"mac_device_count\", ascending=False).limit(5)\n",
    "\n",
    "# Show the results\n",
    "top_countries.show()"
   ]
  }
 ],
 "metadata": {
  "kernelspec": {
   "display_name": "Python 3 (ipykernel)",
   "language": "python",
   "name": "python3"
  },
  "language_info": {
   "codemirror_mode": {
    "name": "ipython",
    "version": 3
   },
   "file_extension": ".py",
   "mimetype": "text/x-python",
   "name": "python",
   "nbconvert_exporter": "python",
   "pygments_lexer": "ipython3",
   "version": "3.12.4"
  }
 },
 "nbformat": 4,
 "nbformat_minor": 5
}
